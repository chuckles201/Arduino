{
 "cells": [
  {
   "cell_type": "markdown",
   "metadata": {},
   "source": [
    "## Overview\n",
    "\n",
    "We will be inserting an ESP, connected to a sensor and small battery in a glove. This ESP will communicate to another ESP over ESP-now protocol, which will communicate to our arduino over serial connections, and tell it to move accordingly.\n",
    "\n",
    "Furthermore, I needed a 2 second delay before intializing the serial\n",
    "\n",
    "### Sensor\n",
    "We'll be using a MPU5060 sensor which measures acceleration in 3 dimensions, and angular rotation in 3 dimensions.\n",
    "\n",
    "We send over ESP-now protocol, which has a simple setup."
   ]
  },
  {
   "cell_type": "markdown",
   "metadata": {},
   "source": [
    "### Reading the outputs\n",
    "\n",
    "To read the outputs from our MPU9250 we must read the raw-bytes. I am not exactly sure how it worked, but basically, we imported ```wire.h```, and then wrote to the following parts of memory:\n",
    "```c++\n",
    "// MPU9250 and AK8963 registers\n",
    "#define MPU9250_ADDR              0x68\n",
    "#define PWR_MGMT_1               0x6B\n",
    "#define INT_PIN_CFG              0x37\n",
    "#define ACCEL_XOUT_H             0x3B\n",
    "#define GYRO_XOUT_H              0x43\n",
    "#define AK8963_ADDR              0x0C\n",
    "#define AK8963_CNTL              0x0A\n",
    "#define AK8963_XOUT_L            0x03\n",
    "\n",
    "```\n",
    "\n",
    "then, we could call like:\n",
    "\n",
    "```c++\n",
    "Wire.beginTransmission(AK8963_ADDR);\n",
    "Wire.write(AK8963_XOUT_L);\n",
    "Wire.endTransmission(false);\n",
    "Wire.requestFrom(AK8963_ADDR, 6, true);\n",
    "\n",
    "```\n",
    "\n",
    "which gives us the data. Also, we would do this a couple times beforehand to calibrate..."
   ]
  },
  {
   "cell_type": "markdown",
   "metadata": {},
   "source": [
    "### Other things...\n",
    "\n",
    "However, an important part is that we must be in synch. I made a huge mistake here by not doing so; if we run a loop that goes every 4 microseconds (arduino max speed), this will outpace our 250hz, and be slow.\n",
    "\n",
    "Therefore, I just added a timer that ensured that the ```loop_begin - current_time``` was at least 1/250th of a second.\n",
    "\n",
    "Other things i found:\n",
    "\n",
    "- Divide output of accel by 16384.0 for 'g's\n",
    "- gyroscope by 131.0 for deg/s\n",
    "\n",
    "Furthermore, it is necessary to be careful with using the correct datatypes:\n",
    "\n",
    "- floats for decimal precision\n",
    "-  int32_t/int16_t for raw-values \n",
    "\n",
    "and a big problem I solved was ***Converthing values to int16_t first when reading, and then doing sum = (int32_t)int16_tval!***"
   ]
  },
  {
   "cell_type": "markdown",
   "metadata": {},
   "source": [
    "## Integrating\n",
    "\n",
    "To calculate the angle, given angular acceleration in X,Y, and Z dimensions, we must integrate the velocity over time, which involves converting acceleration to velocity:\n",
    "\n",
    "$$\n",
    "\\sum_{}^{}\\frac{dangle}{dt}*\\Delta t=\\sim angle\n",
    "$$\n",
    "\n",
    "but for acceleration, we need to go from acceleration to position. This involves integrating twice, and keeping track of the running-velocity.\n",
    "\n",
    "\n",
    "## Pitch and yaw values."
   ]
  }
 ],
 "metadata": {
  "language_info": {
   "name": "python"
  }
 },
 "nbformat": 4,
 "nbformat_minor": 2
}
