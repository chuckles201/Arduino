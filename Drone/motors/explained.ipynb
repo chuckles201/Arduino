{
 "cells": [
  {
   "cell_type": "markdown",
   "metadata": {},
   "source": [
    "# Driving Motors\n",
    "\n",
    "This section will mainly be about me understanding my motors, and the circuitry used to drive them. \n",
    "\n",
    "\n",
    "\n",
    "\n",
    "\n",
    "\n",
    "\n",
    "\n"
   ]
  },
  {
   "cell_type": "markdown",
   "metadata": {},
   "source": [
    "## Electro Magnetism\n",
    "\n"
   ]
  },
  {
   "cell_type": "markdown",
   "metadata": {},
   "source": [
    "## Supplying power\n",
    "\n",
    "Motors require a certain voltage, and if the voltage is too low, it will turn slowly and eventually seize to turn; if it is too high, it will burn out.\n",
    "\n",
    "Motors have internal resistance (once they are running), proportional to how fast they are spinning (counter magnetic-field), so when there is a load against the motor, it'll spin slower.\n",
    "\n",
    "\n",
    "### Back EMF\n",
    "\n",
    "The work that is done against the magnetic fields inside the motor is called back-EMF. This is not a problem when we are powering the motor, since we are supplying the voltage it's using; but when powering down, it will continue to have some velocity, and therefore generate 'back EMF', a force caused by work done against magnetic fields, that generates current."
   ]
  },
  {
   "cell_type": "markdown",
   "metadata": {},
   "source": [
    "## PWM\n",
    "\n",
    "A way to supply power, is with very fast pulses called PWM. We control the frequency and lengths of these pulses, and the average output is given by the proportion of the 'on' to the wait period (with no output).\n",
    "\n",
    "![img](pwm.png)\n",
    "\n",
    "This is a way for us to acheive any average output we want with either a simple timer, or a microcontroller. We can use a transistor to amplify the current while using a 555 timer or microcontroller.\n",
    "\n"
   ]
  },
  {
   "cell_type": "markdown",
   "metadata": {},
   "source": [
    "## Schematic\n",
    "\n",
    "Here is the circuit we'll use to drive our motor with PWM and MOSFETS. "
   ]
  }
 ],
 "metadata": {
  "language_info": {
   "name": "python"
  }
 },
 "nbformat": 4,
 "nbformat_minor": 2
}
